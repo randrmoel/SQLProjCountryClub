{
 "cells": [
  {
   "cell_type": "code",
   "execution_count": 8,
   "id": "052d7acf",
   "metadata": {},
   "outputs": [
    {
     "name": "stdout",
     "output_type": "stream",
     "text": [
      "2.6.0\n",
      "2. Query all tasks\n"
     ]
    }
   ],
   "source": [
    "import sqlite3\n",
    "from sqlite3 import Error\n",
    "\n",
    " \n",
    "def create_connection(db_file):\n",
    "    \"\"\" create a database connection to the SQLite database\n",
    "        specified by the db_file\n",
    "    :param db_file: database file\n",
    "    :return: Connection object or None\n",
    "    \"\"\"\n",
    "    conn = None\n",
    "    try:\n",
    "        conn = sqlite3.connect(db_file)\n",
    "        print(sqlite3.version)\n",
    "    except Error as e:\n",
    "        print(e)\n",
    " \n",
    "    return conn\n",
    "\n",
    " \n",
    "def select_all_tasks(conn):\n",
    "    \"\"\"\n",
    "    Query all rows in the tasks table\n",
    "    :param conn: the Connection object\n",
    "    :return:\n",
    "    \"\"\"\n",
    "    cur = conn.cursor()\n",
    "    \n",
    "    query1 = \"\"\"\n",
    "        select f.name, \n",
    "        case when b.memid = 0 then sum(f.guestcost * b.slots)\n",
    "        else sum(f.membercost * b.slots) end as fac_rev\n",
    "        from facilities as f\n",
    "        left join bookings as b\n",
    "        on f.facid = b.facid\n",
    "        group by f.facid\n",
    "        having fac_rev <1000\n",
    "        \"\"\"\n",
    "    cur.execute(query1)\n",
    " \n",
    "    rows = cur.fetchall()\n",
    " \n",
    "    for row in rows:\n",
    "        print(row)\n",
    "\n",
    "\n",
    "def main():\n",
    "    database = \"sqlite_db_pythonsqlite.db\"\n",
    " \n",
    "    # create a database connection\n",
    "    conn = create_connection(database)\n",
    "    with conn: \n",
    "        print(\"2. Query all tasks\")\n",
    "        select_all_tasks(conn)\n",
    " \n",
    " \n",
    "if __name__ == '__main__':\n",
    "    main()"
   ]
  },
  {
   "cell_type": "code",
   "execution_count": 29,
   "id": "7a1ff460",
   "metadata": {},
   "outputs": [
    {
     "name": "stdout",
     "output_type": "stream",
     "text": [
      "[('Table Tennis', 180), ('Snooker Table', 240), ('Pool Table', 270)]\n"
     ]
    }
   ],
   "source": [
    "from sqlalchemy import create_engine\n",
    "eng = create_engine('sqlite:///sqlite_db_pythonsqlite.db')\n",
    "con = eng.connect()\n",
    "query1 = \"\"\"\n",
    "with r as (\n",
    "select f.name, \n",
    "case \n",
    "\twhen b.memid = 0 then f.guestcost * b.slots\n",
    "    else f.membercost * b.slots end as fac_rev\n",
    "from facilities as f\n",
    "left join bookings as b\n",
    "on f.facid = b.facid\n",
    ")\n",
    "select name, sum(fac_rev) as tot_rev\n",
    "from r\n",
    "group by name\n",
    "having sum(fac_rev) < 1000\n",
    "order by tot_rev\n",
    "        \"\"\"\n",
    "rs = con.execute(query1)\n",
    "print(rs.fetchall())"
   ]
  },
  {
   "cell_type": "code",
   "execution_count": 31,
   "id": "3c826129",
   "metadata": {},
   "outputs": [
    {
     "name": "stdout",
     "output_type": "stream",
     "text": [
      "[('Florence Bader', 'Ponder Stibbons'), ('Anne Baker', 'Ponder Stibbons'), ('Timothy Baker', 'Jemima Farrell'), ('Tim Boothe', 'Tim Rownam'), ('Gerald Butters', 'Darren Smith'), ('Joan Coplin', 'Timothy Baker'), ('Erica Crumpet', 'Tracy Smith'), ('Nancy Dare', 'Janice Joplette'), ('Matthew Genting', 'Gerald Butters'), ('John Hunt', 'Millicent Purview'), ('David Jones', 'Janice Joplette'), ('Douglas Jones', 'David Jones'), ('Janice Joplette', 'Darren Smith'), ('Anna Mackenzie', 'Darren Smith'), ('Charles Owen', 'Darren Smith'), ('David Pinker', 'Jemima Farrell'), ('Millicent Purview', 'Tracy Smith'), ('Henrietta Rumney', 'Matthew Genting'), ('Ramnaresh Sarwin', 'Florence Bader'), ('Jack Smith', 'Darren Smith'), ('Ponder Stibbons', 'Burton Tracy'), ('Henry Worthington-Smyth', 'Tracy Smith')]\n"
     ]
    }
   ],
   "source": [
    "query1 = \"\"\"\n",
    "select r.firstname||\" \"||r.surname as Recommndee, l.firstname||\" \"||l.surname as Recomender\n",
    "from members as l\n",
    "left join members as r\n",
    "on l.memid = r.recommendedby\n",
    "where r.recommendedby is not null and l.memid <> 0\n",
    "order by r.surname||r.firstname\n",
    "\"\"\"\n",
    "rs = con.execute(query1)\n",
    "print(rs.fetchall())"
   ]
  },
  {
   "cell_type": "code",
   "execution_count": 32,
   "id": "af991446",
   "metadata": {},
   "outputs": [
    {
     "name": "stdout",
     "output_type": "stream",
     "text": [
      "[('Badminton Court', 344), ('Massage Room 1', 421), ('Massage Room 2', 27), ('Pool Table', 783), ('Snooker Table', 421), ('Squash Court', 195), ('Table Tennis', 385), ('Tennis Court 1', 308), ('Tennis Court 2', 276)]\n"
     ]
    }
   ],
   "source": [
    "query1 = \"\"\"\n",
    "select f.name, count(b.memid) as Useage\n",
    "from bookings as b\n",
    "left join facilities as f\n",
    "on f.facid = b.facid\n",
    "where b.memid <> 0\n",
    "group by f.name\n",
    "order by f.name\n",
    "\"\"\"\n",
    "rs = con.execute(query1)\n",
    "print(rs.fetchall())"
   ]
  },
  {
   "cell_type": "code",
   "execution_count": 38,
   "id": "7c2f690d",
   "metadata": {},
   "outputs": [
    {
     "name": "stdout",
     "output_type": "stream",
     "text": [
      "[('2012-07', 480), ('2012-08', 1168), ('2012-09', 1512)]\n"
     ]
    }
   ],
   "source": [
    "query1 = \"\"\"\n",
    "select substr(b.starttime,1, 7) as `Year-Month`, count(b.memid) as Useage \n",
    "from bookings as b\n",
    "left join facilities as f\n",
    "on f.facid = b.facid\n",
    "where b.memid <> 0\n",
    "group by `Year-Month`\n",
    "order by `Year-Month`\n",
    "\"\"\"\n",
    "rs = con.execute(query1)\n",
    "print(rs.fetchall())"
   ]
  },
  {
   "cell_type": "code",
   "execution_count": null,
   "id": "cfe0544d",
   "metadata": {},
   "outputs": [],
   "source": []
  }
 ],
 "metadata": {
  "kernelspec": {
   "display_name": "Python 3 (ipykernel)",
   "language": "python",
   "name": "python3"
  },
  "language_info": {
   "codemirror_mode": {
    "name": "ipython",
    "version": 3
   },
   "file_extension": ".py",
   "mimetype": "text/x-python",
   "name": "python",
   "nbconvert_exporter": "python",
   "pygments_lexer": "ipython3",
   "version": "3.8.12"
  }
 },
 "nbformat": 4,
 "nbformat_minor": 5
}
